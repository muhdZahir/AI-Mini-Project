{
 "cells": [
  {
   "cell_type": "markdown",
   "id": "283e5053-6a5f-403b-b41a-cb9f4c0b4ec5",
   "metadata": {},
   "source": [
    "<h2>Importing Libraries</h2>"
   ]
  },
  {
   "cell_type": "code",
   "execution_count": 2,
   "id": "66dee72c-56c5-4400-8b6a-09ccc141515f",
   "metadata": {},
   "outputs": [],
   "source": [
    "import numpy as np\n",
    "import tensorflow as tf\n",
    "from tensorflow import keras\n",
    "from tensorflow.keras.models import Sequential\n",
    "from tensorflow.keras.layers import Activation, Dense, Flatten, BatchNormalization, Conv2D, MaxPool2D\n",
    "from tensorflow.keras.optimizers import Adam\n",
    "from tensorflow.keras.metrics import categorical_crossentropy\n",
    "from tensorflow.keras.preprocessing.image import ImageDataGenerator\n",
    "from tensorflow.keras.applications import ResNet50, DenseNet121, MobileNetV3Small\n",
    "from sklearn.metrics import confusion_matrix, average_precision_score\n",
    "from selenium import webdriver\n",
    "from selenium.webdriver.common.keys import Keys\n",
    "from selenium.webdriver.common.by import By\n",
    "from tensorflow.keras.preprocessing.image import ImageDataGenerator\n",
    "import matplotlib.pyplot as plt\n",
    "import shutil\n",
    "import random\n",
    "import glob\n",
    "import warnings\n",
    "import os\n",
    "import time\n",
    "import requests\n",
    "warnings.simplefilter(action='ignore', category=FutureWarning)"
   ]
  },
  {
   "cell_type": "markdown",
   "id": "254cee96-539f-499e-aeb8-0d722665c80a",
   "metadata": {},
   "source": [
    "<h2>Checking For GPU Availability</h2>"
   ]
  },
  {
   "cell_type": "code",
   "execution_count": null,
   "id": "0d862b50-99a2-4b99-8ea0-9aafc73d1aa0",
   "metadata": {},
   "outputs": [],
   "source": [
    "physical_devices = tf.config.experimental.list_physical_devices('GPU')\n",
    "print('Num GPUs Available: ', len(physical_devices))\n",
    "tf.config.experimental.set_memory_growth(physical_devices[0], True)"
   ]
  },
  {
   "cell_type": "markdown",
   "id": "e4ba445a-6c8d-4030-bb75-9caad1930539",
   "metadata": {},
   "source": [
    "<h2>Data Preparation and Loading</h2>"
   ]
  },
  {
   "cell_type": "code",
   "execution_count": null,
   "id": "9cdf309a-6836-415e-bef8-fab9f206bc4b",
   "metadata": {},
   "outputs": [],
   "source": [
    "# Search images in gettyimages with Selenium\n",
    "class_names = [\"tundra-wolf\",\"domestic-dog\",\"italian-wolf\",\"arctic-wolf\",\"red-wolf\"]\n",
    "site = [\"https://www.gettyimages.com/search/2/image-film?family=creative&phrase=tundra%20wolf\",\n",
    "      \"https://www.gettyimages.com/search/2/image?phrase=domestic%20dog&sort=mostpopular&license=rf%2Crm\",\n",
    "      \"https://www.gettyimages.com/search/2/image?phrase=italian%20wolf&sort=mostpopular&license=rf%2Crm\",\n",
    "      \"https://www.gettyimages.com/search/2/image?phrase=arctic%20wolf&sort=mostpopular&license=rf%2Crm\",\n",
    "      \"https://www.gettyimages.com/search/2/image?phrase=red%20wolf\"]\n",
    "\n",
    "os.chdir(\"C:/Users/Admin/Python/Mini/Wolf-Subspecies/datasets\")# Move directory to download file there \n",
    "\n",
    "cService = webdriver.ChromeService(executable_path='C:/Users/Admin/Downloads/chromedriver/chromedriver.exe')# Chromedriver path\n",
    "    \n",
    "# Creating a webdriver instance\n",
    "driver = webdriver.Chrome(service = cService)\n",
    "\n",
    "# Maximize the screen\n",
    "driver.maximize_window()\n",
    "\n",
    "for i in range(0,5):\n",
    "    # Open url in the browser\n",
    "    driver.get(site[i])\n",
    "\n",
    "    # Function for scrolling to the bottom of Google\n",
    "    # Images results\n",
    "    def scroll_to_bottom():\n",
    "    \n",
    "     last_height = driver.execute_script('\\\n",
    "     return document.body.scrollHeight')\n",
    "    \n",
    "     while True:\n",
    "      driver.execute_script('\\\n",
    "      window.scrollTo(0,document.body.scrollHeight)')\n",
    "    \n",
    "      # waiting for the results to load\n",
    "      # Increase the sleep time if your internet is slow\n",
    "      time.sleep(3)\n",
    "    \n",
    "      new_height = driver.execute_script('\\\n",
    "      return document.body.scrollHeight')\n",
    "    \n",
    "      # click on \"Next\" button to go to the next page\n",
    "      try:\n",
    "       driver.find_element(By.CLASS_NAME,'RRgPxNbrGLtZ3UAqeMG1').click()\n",
    "    \n",
    "       # waiting for the results to load\n",
    "       # Increase the sleep time if your internet is slow\n",
    "       time.sleep(3)\n",
    "    \n",
    "      except:\n",
    "       pass\n",
    "    \n",
    "      # checking if we have reached the bottom of the page\n",
    "      if new_height == last_height:\n",
    "       break\n",
    "    \n",
    "      last_height = new_height\n",
    "    \n",
    "    # Calling the function\n",
    "    scroll_to_bottom()\n",
    "    \n",
    "    # Class name and src of each image\n",
    "    img_tag = driver.find_elements(By.CLASS_NAME,'Xc8V0Fvh0qg0lUySLpoi')\n",
    "    img_url = [img.get_attribute('src') for img in img_tag if 'media.gettyimages' in img.get_attribute('src')]\n",
    "    # download images\n",
    "    for index, urls in enumerate(img_url[:10]):   \n",
    "      response = requests.get(urls, stream=True)\n",
    "      \n",
    "      with open(f'{class_names[i]} {index+1}.jpg','wb') as f:\n",
    "          for chunk in response.iter_content(chunk_size=128):\n",
    "              f.write(chunk)\n",
    "\n",
    "# Finally, we close the driver\n",
    "driver.close()"
   ]
  },
  {
   "cell_type": "code",
   "execution_count": null,
   "id": "d5cbd6f0-1b0b-4e6c-802d-37262202f8c1",
   "metadata": {},
   "outputs": [],
   "source": [
    "for classes in class_names:\n",
    "    if os.path.isdir('train/'+classes) is False:\n",
    "        os.makedirs('train/'+classes)\n",
    "        os.makedirs('valid/'+classes)\n",
    "        os.makedirs('test/'+classes)\n",
    "    \n",
    "        for c in random.sample(glob.glob(classes+'*.jpg'),420):\n",
    "            shutil.move(c, 'train/'+classes)\n",
    "        for c in random.sample(glob.glob(classes+'*.jpg'),120):\n",
    "            shutil.move(c, 'valid/'+classes)\n",
    "        for c in random.sample(glob.glob(classes+'*.jpg'),60):\n",
    "            shutil.move(c,'test/'+classes)\n",
    "    \n",
    "os.chdir('../../')"
   ]
  },
  {
   "cell_type": "code",
   "execution_count": null,
   "id": "83a7a5b8-58d1-42b6-922a-34cec2ecea80",
   "metadata": {},
   "outputs": [],
   "source": [
    "train_path = 'C:/Users/Admin/Python/Mini/Wolf-Subspecies/datasets/train'\n",
    "valid_path = 'C:/Users/Admin/Python/Mini/Wolf-Subspecies/datasets/valid'\n",
    "test_path = 'C:/Users/Admin/Python/Mini/Wolf-Subspecies/datasets/test'"
   ]
  },
  {
   "cell_type": "code",
   "execution_count": null,
   "id": "40bbfb06-dbb2-4ae8-90e6-5cf11b42297b",
   "metadata": {},
   "outputs": [],
   "source": [
    "data_gen = ImageDataGenerator(rescale=1.0/255.0)\n",
    "train_batches = data_gen.flow_from_directory(train_path, target_size=(224,224), batch_size=32, class_mode='categorical')\n",
    "valid_batches = data_gen.flow_from_directory(valid_path, target_size=(224,224), batch_size=32, class_mode='categorical')\n",
    "test_batches = data_gen.flow_from_directory(test_path, target_size=(224,224), batch_size=32, class_mode='categorical')"
   ]
  },
  {
   "cell_type": "code",
   "execution_count": null,
   "id": "efae8e6e-bb1a-421d-ac2e-d35ff2790d86",
   "metadata": {},
   "outputs": [],
   "source": [
    "assert train_batches.n == 2100\n",
    "assert valid_batches.n == 600\n",
    "assert test_batches.n == 300\n",
    "assert train_batches.num_classes == valid_batches.num_classes == test_batches.num_classes == 5"
   ]
  },
  {
   "cell_type": "code",
   "execution_count": null,
   "id": "79a811ff-1fbe-40dd-8cfd-1456252ec078",
   "metadata": {},
   "outputs": [],
   "source": [
    "imgs , labels = next(train_batches)"
   ]
  },
  {
   "cell_type": "code",
   "execution_count": null,
   "id": "7bc2879d-b131-4ed2-9533-e99b5c589491",
   "metadata": {},
   "outputs": [],
   "source": [
    "def plotImages(images_arr):\n",
    "    fig, axes = plt.subplots(1, 10, figsize = (20, 20))\n",
    "    axes = axes.flatten()\n",
    "    for img, ax in zip(images_arr,axes):\n",
    "        ax.imshow(img)\n",
    "        ax.axis('off')\n",
    "    plt.tight_layout()\n",
    "    plt.show()"
   ]
  },
  {
   "cell_type": "code",
   "execution_count": null,
   "id": "319b8479-0c03-457b-8512-54593efe94db",
   "metadata": {},
   "outputs": [],
   "source": [
    "plotImages(imgs)\n",
    "print(labels)"
   ]
  },
  {
   "cell_type": "markdown",
   "id": "b3cdf456-73b0-4cf1-9db1-2b538facadd2",
   "metadata": {},
   "source": [
    "<h1>ResNet50</h1>"
   ]
  },
  {
   "cell_type": "markdown",
   "id": "517dd7b5-9142-4671-964d-6f70397a2061",
   "metadata": {},
   "source": [
    "<h2>Training Model: ResNet50</h2>"
   ]
  },
  {
   "cell_type": "code",
   "execution_count": null,
   "id": "91f1922b-4004-48fd-92b0-75ada997fc17",
   "metadata": {},
   "outputs": [],
   "source": [
    "# ResNet50 Model\n",
    "resnet50_model = ResNet50(weights=None, input_shape=(224, 224, 3), classes=len(train_batches.class_indices))"
   ]
  },
  {
   "cell_type": "code",
   "execution_count": null,
   "id": "8b0383c6-c12d-4ca3-b502-70059e8781ac",
   "metadata": {},
   "outputs": [],
   "source": [
    "resnet50_model.summary()"
   ]
  },
  {
   "cell_type": "code",
   "execution_count": 2,
   "id": "3b22a3c3-0725-4cbe-a580-d98deae8375b",
   "metadata": {},
   "outputs": [
    {
     "ename": "NameError",
     "evalue": "name 'resnet50_model' is not defined",
     "output_type": "error",
     "traceback": [
      "\u001b[0;31m---------------------------------------------------------------------------\u001b[0m",
      "\u001b[0;31mNameError\u001b[0m                                 Traceback (most recent call last)",
      "Cell \u001b[0;32mIn[2], line 1\u001b[0m\n\u001b[0;32m----> 1\u001b[0m \u001b[43mresnet50_model\u001b[49m\u001b[38;5;241m.\u001b[39mcompile(optimizer\u001b[38;5;241m=\u001b[39mAdam(learning_rate\u001b[38;5;241m=\u001b[39m\u001b[38;5;241m0.0001\u001b[39m), loss\u001b[38;5;241m=\u001b[39m\u001b[38;5;124m'\u001b[39m\u001b[38;5;124mcategorical_crossentropy\u001b[39m\u001b[38;5;124m'\u001b[39m,metrics\u001b[38;5;241m=\u001b[39m[\u001b[38;5;124m'\u001b[39m\u001b[38;5;124maccuracy\u001b[39m\u001b[38;5;124m'\u001b[39m])\n",
      "\u001b[0;31mNameError\u001b[0m: name 'resnet50_model' is not defined"
     ]
    }
   ],
   "source": [
    "resnet50_model.compile(optimizer=Adam(learning_rate=0.0001), loss='categorical_crossentropy',metrics=['accuracy'])\n",
    "start_time = time.time()"
   ]
  },
  {
   "cell_type": "code",
   "execution_count": 3,
   "id": "dccaed41-00fb-4770-ad37-4b2a360e4749",
   "metadata": {
    "scrolled": true
   },
   "outputs": [
    {
     "ename": "NameError",
     "evalue": "name 'resnet_model' is not defined",
     "output_type": "error",
     "traceback": [
      "\u001b[0;31m---------------------------------------------------------------------------\u001b[0m",
      "\u001b[0;31mNameError\u001b[0m                                 Traceback (most recent call last)",
      "Cell \u001b[0;32mIn[3], line 1\u001b[0m\n\u001b[0;32m----> 1\u001b[0m history1 \u001b[38;5;241m=\u001b[39m \u001b[43mresnet_model\u001b[49m\u001b[38;5;241m.\u001b[39mfit(x\u001b[38;5;241m=\u001b[39mtrain_batches, validation_data \u001b[38;5;241m=\u001b[39m valid_batches, epochs \u001b[38;5;241m=\u001b[39m\u001b[38;5;241m50\u001b[39m, verbose \u001b[38;5;241m=\u001b[39m \u001b[38;5;241m2\u001b[39m)\n",
      "\u001b[0;31mNameError\u001b[0m: name 'resnet_model' is not defined"
     ]
    }
   ],
   "source": [
    "history1 = resnet50_model.fit(x=train_batches, validation_data = valid_batches, epochs =50, verbose = 2)\n",
    "training_time = time.time() - start_time"
   ]
  },
  {
   "cell_type": "markdown",
   "id": "807add35-7f05-4535-b3a1-eb3a589b8a14",
   "metadata": {},
   "source": [
    "<h2>Model Accuracy: ResNet50 </h2>"
   ]
  },
  {
   "cell_type": "code",
   "execution_count": null,
   "id": "3b50704f-c52e-4306-a6c5-27397be5c9a6",
   "metadata": {},
   "outputs": [],
   "source": [
    "plt.subplot(2,1,1)\n",
    "plt.plot(history1.history['accuracy'])\n",
    "plt.plot(history1.history['val_accuracy'])\n",
    "plt.title('model accuracy')\n",
    "plt.ylabel('accuracy')\n",
    "plt.xlabel('epoch')\n",
    "plt.legend(['train', 'val'], loc='lower right')"
   ]
  },
  {
   "cell_type": "markdown",
   "id": "28014f16-b5b2-4209-b260-da72503f8cae",
   "metadata": {},
   "source": [
    "<h2>Training Loss: ResNet50</h2>"
   ]
  },
  {
   "cell_type": "code",
   "execution_count": null,
   "id": "0b1c306c-088c-4c4c-82fe-7b259bfa61b6",
   "metadata": {},
   "outputs": [],
   "source": [
    "plt.subplot(2,1,2)\n",
    "plt.plot(history1.history['loss'])\n",
    "plt.plot(history1.history['val_loss'])\n",
    "plt.title('model loss')\n",
    "plt.ylabel('loss')\n",
    "plt.xlabel('epoch')\n",
    "plt.legend(['train', 'val'], loc='upper right')"
   ]
  },
  {
   "cell_type": "code",
   "execution_count": null,
   "id": "35923a0e-9781-44ff-ba1c-e6e8aa9357a8",
   "metadata": {},
   "outputs": [],
   "source": [
    "test_imgs, test_labels = next(test_batches)\n",
    "plotImages(test_imgs)\n",
    "print(test_labels)"
   ]
  },
  {
   "cell_type": "code",
   "execution_count": null,
   "id": "dfd86190-e059-4db8-b6bd-50e6eb90f858",
   "metadata": {},
   "outputs": [],
   "source": [
    "test_batches.classes"
   ]
  },
  {
   "cell_type": "code",
   "execution_count": null,
   "id": "ea66f52c-362b-4635-8a86-5067d98b3e62",
   "metadata": {},
   "outputs": [],
   "source": [
    "predictions = resnet50_model.predict(x=test_batches, verbose=0)"
   ]
  },
  {
   "cell_type": "code",
   "execution_count": null,
   "id": "2aa39c6b-fe82-4759-80ca-0d59ff151826",
   "metadata": {},
   "outputs": [],
   "source": [
    "np.round(predictions)"
   ]
  },
  {
   "cell_type": "code",
   "execution_count": null,
   "id": "3b377230-f6c2-414f-8720-4c03f7480110",
   "metadata": {},
   "outputs": [],
   "source": [
    "cm = confusion_matrix(y_true=test_batches.classes, y_pred=np.argmax(predictions, axis = -1))"
   ]
  },
  {
   "cell_type": "code",
   "execution_count": null,
   "id": "e646455b-0d8d-4561-a35a-99b8735e079b",
   "metadata": {},
   "outputs": [],
   "source": [
    "def plot_confusion_matrix(cm,classes,\n",
    "                         normalize = False, title = 'Confusion Matrix',\n",
    "                         cmap=plt.cm.Blues):\n",
    "    plt.imshow(cm, interpolation = 'nearest', cmap = cmap)\n",
    "    plt.title(title)\n",
    "    plt.colorbar()\n",
    "    tick_marks = np.arange(len(classes))\n",
    "    plt.xticks(tick_marks, classes, rotation=45)\n",
    "    plt.yticks(tick_marks,classes)\n",
    "    \n",
    "    if normalize:\n",
    "        cm = cm.astype('float')/cm.sum(axis=1)[:,np.newaxis]\n",
    "        print('Normalized confusion matrix')\n",
    "    else:\n",
    "        print('Confusion matrix, without normalization')\n",
    "    print(cm)\n",
    "    thresh = cm.max()/2.\n",
    "    for i,j in itertools.product(range(cm.shape[0]), range(cm.shape[1])):\n",
    "        plt.text(j,i, cm[i,j],\n",
    "                horizontalalignment='center',\n",
    "                color='white' if cm[i,j] > thresh else 'black')\n",
    "    plt.tight_layout()\n",
    "    plt.ylabel('True label')\n",
    "    plt.xlabel('Predicted label')\n"
   ]
  },
  {
   "cell_type": "code",
   "execution_count": null,
   "id": "2167b866-20a5-460b-81a5-fa074bd1ca3a",
   "metadata": {},
   "outputs": [],
   "source": [
    "test_batches.class_indices"
   ]
  },
  {
   "cell_type": "code",
   "execution_count": null,
   "id": "de882634-ba5f-45d9-9237-d4b48161b493",
   "metadata": {},
   "outputs": [],
   "source": [
    "cm_plot_labels = ['class1','class2', 'class3', 'class4']\n",
    "plot_confusion_matrix(cm=cm, classes=cm_plot_labels, title='Confusion Matrix')"
   ]
  },
  {
   "cell_type": "code",
   "execution_count": null,
   "id": "dbc6843e-8dee-468f-ad73-549d5aa821a5",
   "metadata": {},
   "outputs": [],
   "source": [
    "loss,acc = resnet50_model.evaluate(test_imgs, test_labels, batch_size=32)"
   ]
  },
  {
   "cell_type": "markdown",
   "id": "d6fb97b6-7d3d-4e95-9659-656d2fa13a24",
   "metadata": {},
   "source": [
    "<h1>DenseNet121</h1>"
   ]
  },
  {
   "cell_type": "markdown",
   "id": "d0e66df4-5720-465a-832e-2f5d14a9f7ba",
   "metadata": {},
   "source": [
    "<h2>Training Model: DenseNet121</h2>"
   ]
  },
  {
   "cell_type": "code",
   "execution_count": null,
   "id": "22feffea-01c0-441b-abfd-24fa68807430",
   "metadata": {},
   "outputs": [],
   "source": [
    "# ResNet50 Model\n",
    "densenet121_model = DenseNet121(weights=None, input_shape=(224,224,3), classes=len(train_batches.class_indices)),"
   ]
  },
  {
   "cell_type": "code",
   "execution_count": null,
   "id": "a34a5f7b-3ba9-400f-a632-51a70961ae62",
   "metadata": {},
   "outputs": [],
   "source": [
    "densenet121_model.summary()"
   ]
  },
  {
   "cell_type": "code",
   "execution_count": null,
   "id": "f3826a53-c29c-4fca-8c3d-e954df40fc21",
   "metadata": {},
   "outputs": [],
   "source": [
    "densenet121_model.compile(optimizer=Adam(learning_rate=0.0001), loss='categorical_crossentropy',metrics=['accuracy'])\n",
    "start_time = time.time()"
   ]
  },
  {
   "cell_type": "code",
   "execution_count": null,
   "id": "823eaf2a-ece2-451b-a940-1fe719f7ebc0",
   "metadata": {},
   "outputs": [],
   "source": [
    "history2 = densenet121_model.fit(x=train_batches, validation_data = valid_batches, epochs =50, verbose = 2)\n",
    "training_time = time.time() - start_time"
   ]
  },
  {
   "cell_type": "markdown",
   "id": "fd93909b-69ef-4a8c-ad7b-4091e658f734",
   "metadata": {},
   "source": [
    "<h2>Model Accuracy: DenseNet121</h2>"
   ]
  },
  {
   "cell_type": "code",
   "execution_count": null,
   "id": "8985d144-8b63-40ad-8cbf-bcc839ca1001",
   "metadata": {},
   "outputs": [],
   "source": [
    "plt.subplot(2,1,1)\n",
    "plt.plot(history2.history['accuracy'])\n",
    "plt.plot(history2.history['val_accuracy'])\n",
    "plt.title('model accuracy')\n",
    "plt.ylabel('accuracy')\n",
    "plt.xlabel('epoch')\n",
    "plt.legend(['train', 'val'], loc='lower right')"
   ]
  },
  {
   "cell_type": "markdown",
   "id": "ea47db1d-5612-4c77-bb3b-29357e7f2bae",
   "metadata": {},
   "source": [
    "<h2>Training Loss: DenseNet121</h2>"
   ]
  },
  {
   "cell_type": "code",
   "execution_count": null,
   "id": "98cdecde-46a5-4252-afe0-aa30dad82688",
   "metadata": {},
   "outputs": [],
   "source": [
    "plt.subplot(2,1,2)\n",
    "plt.plot(history2.history['loss'])\n",
    "plt.plot(history2.history['val_loss'])\n",
    "plt.title('model loss')\n",
    "plt.ylabel('loss')\n",
    "plt.xlabel('epoch')\n",
    "plt.legend(['train', 'val'], loc='upper right')"
   ]
  },
  {
   "cell_type": "code",
   "execution_count": 4,
   "id": "11c1f07a-8eac-4184-9e42-7f564a3e9e7e",
   "metadata": {},
   "outputs": [
    {
     "ename": "NameError",
     "evalue": "name 'test_batches' is not defined",
     "output_type": "error",
     "traceback": [
      "\u001b[0;31m---------------------------------------------------------------------------\u001b[0m",
      "\u001b[0;31mNameError\u001b[0m                                 Traceback (most recent call last)",
      "Cell \u001b[0;32mIn[4], line 1\u001b[0m\n\u001b[0;32m----> 1\u001b[0m test_imgs, test_labels \u001b[38;5;241m=\u001b[39m \u001b[38;5;28mnext\u001b[39m(\u001b[43mtest_batches\u001b[49m)\n\u001b[1;32m      2\u001b[0m plotImages(test_imgs)\n\u001b[1;32m      3\u001b[0m \u001b[38;5;28mprint\u001b[39m(test_labels)\n",
      "\u001b[0;31mNameError\u001b[0m: name 'test_batches' is not defined"
     ]
    }
   ],
   "source": [
    "test_imgs, test_labels = next(test_batches)\n",
    "plotImages(test_imgs)\n",
    "print(test_labels)"
   ]
  },
  {
   "cell_type": "code",
   "execution_count": null,
   "id": "b8125e22-dad7-4be0-87be-a99f42ccee86",
   "metadata": {},
   "outputs": [],
   "source": [
    "test_batches.classes"
   ]
  },
  {
   "cell_type": "code",
   "execution_count": null,
   "id": "a21e47d8-1723-4e7c-b471-d214bf342a94",
   "metadata": {},
   "outputs": [],
   "source": [
    "predictions = densenet121_model.predict(x=test_batches, verbose=0)"
   ]
  },
  {
   "cell_type": "code",
   "execution_count": null,
   "id": "94811a67-2d5b-4a48-8b37-b7baff33d0f0",
   "metadata": {},
   "outputs": [],
   "source": [
    "np.round(predictions)"
   ]
  },
  {
   "cell_type": "code",
   "execution_count": null,
   "id": "ed7b02a9-a30e-432d-ae55-835896e86a87",
   "metadata": {},
   "outputs": [],
   "source": [
    "cm = confusion_matrix(y_true=test_batches.classes, y_pred=np.argmax(predictions, axis = -1))"
   ]
  },
  {
   "cell_type": "code",
   "execution_count": null,
   "id": "2d1a4cf8-9076-4162-a34c-add71287874f",
   "metadata": {},
   "outputs": [],
   "source": [
    "def plot_confusion_matrix(cm,classes,\n",
    "                         normalize = False, title = 'Confusion Matrix',\n",
    "                         cmap=plt.cm.Blues):\n",
    "    plt.imshow(cm, interpolation = 'nearest', cmap = cmap)\n",
    "    plt.title(title)\n",
    "    plt.colorbar()\n",
    "    tick_marks = np.arange(len(classes))\n",
    "    plt.xticks(tick_marks, classes, rotation=45)\n",
    "    plt.yticks(tick_marks,classes)\n",
    "    \n",
    "    if normalize:\n",
    "        cm = cm.astype('float')/cm.sum(axis=1)[:,np.newaxis]\n",
    "        print('Normalized confusion matrix')\n",
    "    else:\n",
    "        print('Confusion matrix, without normalization')\n",
    "    print(cm)\n",
    "    thresh = cm.max()/2.\n",
    "    for i,j in itertools.product(range(cm.shape[0]), range(cm.shape[1])):\n",
    "        plt.text(j,i, cm[i,j],\n",
    "                horizontalalignment='center',\n",
    "                color='white' if cm[i,j] > thresh else 'black')\n",
    "    plt.tight_layout()\n",
    "    plt.ylabel('True label')\n",
    "    plt.xlabel('Predicted label')\n"
   ]
  },
  {
   "cell_type": "code",
   "execution_count": null,
   "id": "c5faf5a3-4b65-4cb6-9939-4af0134747a6",
   "metadata": {},
   "outputs": [],
   "source": [
    "test_batches.class_indices"
   ]
  },
  {
   "cell_type": "code",
   "execution_count": null,
   "id": "dce6b098-1951-471c-8878-e779af02d393",
   "metadata": {},
   "outputs": [],
   "source": [
    "cm_plot_labels = ['class1','class2', 'class3', 'class4']\n",
    "plot_confusion_matrix(cm=cm, classes=cm_plot_labels, title='Confusion Matrix')"
   ]
  },
  {
   "cell_type": "code",
   "execution_count": null,
   "id": "165c2f13-7cb6-48a1-86ca-ecf02f064f7b",
   "metadata": {},
   "outputs": [],
   "source": [
    "loss,acc = densenet121_model.evaluate(test_imgs, test_labels, batch_size=32)"
   ]
  },
  {
   "cell_type": "markdown",
   "id": "153cf631-7b66-4d20-9a86-5021d18360fa",
   "metadata": {},
   "source": [
    "<h1>MobileNetV3</h1>"
   ]
  },
  {
   "cell_type": "markdown",
   "id": "0f84d5d4-d02f-4065-b65f-60f00d344d07",
   "metadata": {},
   "source": [
    "<h2>Training Model: MobileNetV3</h2>"
   ]
  },
  {
   "cell_type": "code",
   "execution_count": null,
   "id": "90d6a356-cae8-467f-a2e1-9c3a7dc08829",
   "metadata": {},
   "outputs": [],
   "source": [
    "# ResNet50 Model\n",
    "mobilenetv3_model = DenseNet121(weights=None, input_shape=(224,224,3), classes=len(train_batches.class_indices)),"
   ]
  },
  {
   "cell_type": "code",
   "execution_count": null,
   "id": "a61ee6b0-e880-4820-9213-959bbf4bec87",
   "metadata": {},
   "outputs": [],
   "source": [
    "mobilenetv3_model.summary()"
   ]
  },
  {
   "cell_type": "code",
   "execution_count": null,
   "id": "9cea65ca-99d4-41d5-9c6f-39bc3b372f56",
   "metadata": {},
   "outputs": [],
   "source": [
    "mobilenetv3_model.compile(optimizer=Adam(learning_rate=0.0001), loss='categorical_crossentropy',metrics=['accuracy'])\n",
    "start_time = time.time()"
   ]
  },
  {
   "cell_type": "code",
   "execution_count": null,
   "id": "5f3fcd9d-57b7-4987-b339-53db5e917dc3",
   "metadata": {},
   "outputs": [],
   "source": [
    "history3 = mobilenetv3_model.fit(x=train_batches, validation_data = valid_batches, epochs =50, verbose = 2)\n",
    "training_time = time.time() - start_time"
   ]
  },
  {
   "cell_type": "markdown",
   "id": "e60a253e-a5a3-4b3b-be91-18b41b309bb4",
   "metadata": {},
   "source": [
    "<h2>Model Accuracy: MobileNetV3</h2>"
   ]
  },
  {
   "cell_type": "code",
   "execution_count": null,
   "id": "2eb67d89-a89f-4eab-8a71-85b189ea9f1c",
   "metadata": {},
   "outputs": [],
   "source": [
    "plt.subplot(2,1,1)\n",
    "plt.plot(history3.history['accuracy'])\n",
    "plt.plot(history3.history['val_accuracy'])\n",
    "plt.title('model accuracy')\n",
    "plt.ylabel('accuracy')\n",
    "plt.xlabel('epoch')\n",
    "plt.legend(['train', 'val'], loc='lower right')"
   ]
  },
  {
   "cell_type": "markdown",
   "id": "30762c15-76a8-48b8-9578-86a1cff141ac",
   "metadata": {},
   "source": [
    "<h2>Training Loss: MobileNetV3</h2>"
   ]
  },
  {
   "cell_type": "code",
   "execution_count": null,
   "id": "55b469ab-5bcd-44cb-b3cf-84f0a09967af",
   "metadata": {},
   "outputs": [],
   "source": [
    "plt.subplot(2,1,2)\n",
    "plt.plot(history3.history['loss'])\n",
    "plt.plot(history3.history['val_loss'])\n",
    "plt.title('model loss')\n",
    "plt.ylabel('loss')\n",
    "plt.xlabel('epoch')\n",
    "plt.legend(['train', 'val'], loc='upper right')"
   ]
  },
  {
   "cell_type": "code",
   "execution_count": 4,
   "id": "64038694-c1ee-4e43-a7f9-1fcc5fd1f93c",
   "metadata": {},
   "outputs": [
    {
     "ename": "NameError",
     "evalue": "name 'test_batches' is not defined",
     "output_type": "error",
     "traceback": [
      "\u001b[0;31m---------------------------------------------------------------------------\u001b[0m",
      "\u001b[0;31mNameError\u001b[0m                                 Traceback (most recent call last)",
      "Cell \u001b[0;32mIn[4], line 1\u001b[0m\n\u001b[0;32m----> 1\u001b[0m test_imgs, test_labels \u001b[38;5;241m=\u001b[39m \u001b[38;5;28mnext\u001b[39m(\u001b[43mtest_batches\u001b[49m)\n\u001b[1;32m      2\u001b[0m plotImages(test_imgs)\n\u001b[1;32m      3\u001b[0m \u001b[38;5;28mprint\u001b[39m(test_labels)\n",
      "\u001b[0;31mNameError\u001b[0m: name 'test_batches' is not defined"
     ]
    }
   ],
   "source": [
    "test_imgs, test_labels = next(test_batches)\n",
    "plotImages(test_imgs)\n",
    "print(test_labels)"
   ]
  },
  {
   "cell_type": "code",
   "execution_count": null,
   "id": "b4c8b57b-6d09-4889-ab85-68fcfe5df25e",
   "metadata": {},
   "outputs": [],
   "source": [
    "test_batches.classes"
   ]
  },
  {
   "cell_type": "code",
   "execution_count": null,
   "id": "69664288-1660-4270-891c-cb1ffd46eefd",
   "metadata": {},
   "outputs": [],
   "source": [
    "predictions = mobilenetv3_model.predict(x=test_batches, verbose=0)"
   ]
  },
  {
   "cell_type": "code",
   "execution_count": null,
   "id": "a6ddfe77-48d4-40b3-9a75-7ac2fc7ccef1",
   "metadata": {},
   "outputs": [],
   "source": [
    "np.round(predictions)"
   ]
  },
  {
   "cell_type": "code",
   "execution_count": null,
   "id": "28f01e79-b1d9-4138-99f9-ad567b55c7fe",
   "metadata": {},
   "outputs": [],
   "source": [
    "cm = confusion_matrix(y_true=test_batches.classes, y_pred=np.argmax(predictions, axis = -1))"
   ]
  },
  {
   "cell_type": "code",
   "execution_count": null,
   "id": "36207a8f-3399-42bf-9c43-4aae7c64840f",
   "metadata": {},
   "outputs": [],
   "source": [
    "def plot_confusion_matrix(cm,classes,\n",
    "                         normalize = False, title = 'Confusion Matrix',\n",
    "                         cmap=plt.cm.Blues):\n",
    "    plt.imshow(cm, interpolation = 'nearest', cmap = cmap)\n",
    "    plt.title(title)\n",
    "    plt.colorbar()\n",
    "    tick_marks = np.arange(len(classes))\n",
    "    plt.xticks(tick_marks, classes, rotation=45)\n",
    "    plt.yticks(tick_marks,classes)\n",
    "    \n",
    "    if normalize:\n",
    "        cm = cm.astype('float')/cm.sum(axis=1)[:,np.newaxis]\n",
    "        print('Normalized confusion matrix')\n",
    "    else:\n",
    "        print('Confusion matrix, without normalization')\n",
    "    print(cm)\n",
    "    thresh = cm.max()/2.\n",
    "    for i,j in itertools.product(range(cm.shape[0]), range(cm.shape[1])):\n",
    "        plt.text(j,i, cm[i,j],\n",
    "                horizontalalignment='center',\n",
    "                color='white' if cm[i,j] > thresh else 'black')\n",
    "    plt.tight_layout()\n",
    "    plt.ylabel('True label')\n",
    "    plt.xlabel('Predicted label')\n"
   ]
  },
  {
   "cell_type": "code",
   "execution_count": null,
   "id": "a72116eb-25bc-4b18-9f9a-f2d9557f1dc7",
   "metadata": {},
   "outputs": [],
   "source": [
    "test_batches.class_indices"
   ]
  },
  {
   "cell_type": "code",
   "execution_count": null,
   "id": "b131edd2-ddae-4984-87dd-df50d5385852",
   "metadata": {},
   "outputs": [],
   "source": [
    "cm_plot_labels = ['class1','class2', 'class3', 'class4']\n",
    "plot_confusion_matrix(cm=cm, classes=cm_plot_labels, title='Confusion Matrix')"
   ]
  },
  {
   "cell_type": "code",
   "execution_count": null,
   "id": "64bb06fe-cf06-4c77-97fd-bb6cdb3bd666",
   "metadata": {},
   "outputs": [],
   "source": [
    "loss,acc = mobilenetv3_model.evaluate(test_imgs, test_labels, batch_size=32)"
   ]
  }
 ],
 "metadata": {
  "kernelspec": {
   "display_name": "Python 3 (ipykernel)",
   "language": "python",
   "name": "python3"
  },
  "language_info": {
   "codemirror_mode": {
    "name": "ipython",
    "version": 3
   },
   "file_extension": ".py",
   "mimetype": "text/x-python",
   "name": "python",
   "nbconvert_exporter": "python",
   "pygments_lexer": "ipython3",
   "version": "3.12.4"
  }
 },
 "nbformat": 4,
 "nbformat_minor": 5
}
